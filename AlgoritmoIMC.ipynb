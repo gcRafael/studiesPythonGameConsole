{
  "nbformat": 4,
  "nbformat_minor": 0,
  "metadata": {
    "colab": {
      "name": "AlgoritmoIMC.ipynb",
      "provenance": [],
      "authorship_tag": "ABX9TyPXfzD/9JvF0tChfxiauD/W",
      "include_colab_link": true
    },
    "kernelspec": {
      "name": "python3",
      "display_name": "Python 3"
    }
  },
  "cells": [
    {
      "cell_type": "markdown",
      "metadata": {
        "id": "view-in-github",
        "colab_type": "text"
      },
      "source": [
        "<a href=\"https://colab.research.google.com/github/gcRafael/studiesPythonGameConsole/blob/master/AlgoritmoIMC.ipynb\" target=\"_parent\"><img src=\"https://colab.research.google.com/assets/colab-badge.svg\" alt=\"Open In Colab\"/></a>"
      ]
    },
    {
      "cell_type": "markdown",
      "metadata": {
        "id": "is9KgbZaQ-Ww",
        "colab_type": "text"
      },
      "source": [
        "## **Algoritmo de IMC**"
      ]
    },
    {
      "cell_type": "markdown",
      "metadata": {
        "id": "OHJClUm4Q4id",
        "colab_type": "text"
      },
      "source": [
        "<b>Fonte da tabela IMC:</b> <br> https://pt.wikipedia.org/wiki/%C3%8Dndice_de_massa_corporal"
      ]
    },
    {
      "cell_type": "markdown",
      "metadata": {
        "id": "oUsuF8dnR6UQ",
        "colab_type": "text"
      },
      "source": [
        "<b>Descrição:</b> <br>\n",
        "O índice de massa corporal (IMC) é uma medida internacional usada para calcular se uma pessoa está no peso ideal. Desenvolvido pelo polímata Lambert Quételet no fim do século XIX, trata-se de um método fácil e rápido para a avaliação do nível de gordura de cada pessoa, sendo, por isso, um preditor internacional de obesidade adotado pela Organização Mundial da Saúde (OMS)."
      ]
    },
    {
      "cell_type": "markdown",
      "metadata": {
        "id": "8P_DedCvS9QC",
        "colab_type": "text"
      },
      "source": [
        "<b>Sobre o calculo:</b> <br>\n",
        "O IMC é determinado pela divisão da massa do indivíduo pelo quadrado de sua altura, em que a massa está em quilogramas e a altura em metros. "
      ]
    },
    {
      "cell_type": "code",
      "metadata": {
        "id": "PXiC39rJM1uh",
        "colab_type": "code",
        "colab": {}
      },
      "source": [
        "altura = float(input(\"Qual sua altura em metros? (exemplo 1.73) \"))\n",
        "peso = float(input(\"Qual seu peso em Kgs? (exemplo 83.5) \"))\n",
        " \n",
        "imc = peso / altura**2\n",
        " \n",
        "print(\"Seu IMC é: %.4f\" % imc)\n",
        "\n",
        "if imc < 17:\n",
        "\tprint(\"Muito abaixo do peso\")\n",
        "elif imc < 18.5:\n",
        "\tprint(\"Abaixo do peso\")\n",
        "elif imc < 25:\n",
        "\tprint(\"Peso normal\")\n",
        "elif imc < 30:\n",
        "\tprint(\"Acima do peso\")\n",
        "elif imc < 35:\n",
        "\tprint(\"Obesidade I\")\n",
        "elif imc < 40:\n",
        "\tprint(\"Obesidade II (severa)\")\n",
        "else:\n",
        "\tprint(\"Obesidade III (mórbida)\")"
      ],
      "execution_count": null,
      "outputs": []
    }
  ]
}